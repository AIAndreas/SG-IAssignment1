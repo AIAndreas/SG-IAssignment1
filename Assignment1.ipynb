{
 "cells": [
  {
   "cell_type": "markdown",
   "id": "cdeb233b",
   "metadata": {},
   "source": [
    "# Assignment 1"
   ]
  },
  {
   "cell_type": "markdown",
   "id": "c18d371b",
   "metadata": {},
   "source": [
    "Authors: \n",
    "- Andreas Rosenquist (s214604)\n",
    "- Felix Lund Frandsen ()\n",
    "- Kasper Rønberg ()\n"
   ]
  },
  {
   "cell_type": "markdown",
   "id": "0c468ad1",
   "metadata": {},
   "source": [
    "## Assignment 1.1: Exploring WS and BA models"
   ]
  },
  {
   "cell_type": "code",
   "execution_count": null,
   "id": "7f908dd2",
   "metadata": {},
   "outputs": [],
   "source": [
    "import networkx as nx\n",
    "import matplotlib.pyplot as plt\n",
    "import itertools\n",
    "import random\n",
    "import numpy as np"
   ]
  },
  {
   "cell_type": "markdown",
   "id": "5dc49ac9",
   "metadata": {},
   "source": [
    "### Part 1:"
   ]
  },
  {
   "cell_type": "markdown",
   "id": "a66bb394",
   "metadata": {},
   "source": [
    "#### Exercises: Did you really read the text? Answer the following questions (no calculations needed) in your IPython notebook."
   ]
  },
  {
   "cell_type": "markdown",
   "id": "516c5b3a",
   "metadata": {},
   "source": [
    "**Why Random Networks are better model for real-world Networks**\n",
    "\n",
    "Random Networks will not create clear outliers. As an example, a random network could not replicate the properties of a social network, as there would be no highly popular person, or someone with zero friends (outliers). As described in the book; in a large random network the degree of most nodes would be close to the average degree $\\langle k \\rangle$ $^{(1)}$.\n",
    "\n",
    "**The four Regimes of Random Networks:**\n",
    "\n",
    "- Subcritical: $\\langle k \\rangle < 1$\n",
    "- Critical Point: $\\langle k \\rangle = 1$  \n",
    "- Supercritcal Regime: $\\langle k \\rangle > 1$\n",
    "- Connected Regime: $\\langle k \\rangle > \\ln N$ $^{(2)}$\n",
    "\n",
    "**Problems of Clustering Coefficient $C(k)$ for random networks compared to real-world networks**\n",
    "\n",
    "In Random Networks, $C(k)$ decreases with the increase of $N$. In other words, the cluserting coefficent decreases when the size of the random network increases. This is problematic as a model for real-world networks, because real-world networks and their clustering coefficient are independent of network size, $N$. $^{(3)}$\n",
    "\n",
    "\n",
    "**References** \n",
    "(1) Network Science Book, Chapter 3.5\n",
    "(2) Network Science Book, Chapter 3.6\n",
    "(3) Network Science Book, Chapter 3.9"
   ]
  },
  {
   "cell_type": "markdown",
   "id": "23718316",
   "metadata": {},
   "source": [
    "#### Exercises: WS edition."
   ]
  },
  {
   "cell_type": "code",
   "execution_count": null,
   "id": "b791387d",
   "metadata": {},
   "outputs": [],
   "source": [
    "N = 500\n",
    "k = 4\n",
    "p = [0, 0.1, 1]\n",
    "\n",
    "WG0 = nx.watts_strogatz_graph(N, k, p[0])\n",
    "WG1 = nx.watts_strogatz_graph(N, k, p[1])\n",
    "WG2 = nx.watts_strogatz_graph(N, k, p[2])  "
   ]
  },
  {
   "cell_type": "code",
   "execution_count": null,
   "id": "57c2c9a6",
   "metadata": {},
   "outputs": [],
   "source": [
    "WG0_avg_path_length = nx.average_shortest_path_length(WG0)\n",
    "WG1_avg_path_length = nx.average_shortest_path_length(WG1)\n",
    "WG2_avg_path_length = nx.average_shortest_path_length(WG2)\n",
    "print(\"Average path length for p=0: \", WG0_avg_path_length)\n",
    "print(\"Average path length for p=0.1: \", WG1_avg_path_length)\n",
    "print(\"Average path length for p=1: \", WG2_avg_path_length)"
   ]
  },
  {
   "cell_type": "markdown",
   "id": "460fd13f",
   "metadata": {},
   "source": [
    "**Watt-Strogatz model at Rewiring Probability $(p)$ of 1**\n",
    "\n",
    "Increasing the paramter p will increase the randomness of the network, i.e. reducing the clustering of the random network. An intermediate $p$ will resemble the small world phenomenon of random networks, as the wiring of the edges will be more random and not only focus on the k-nearest neighbours. At $p=1$ we see that the average shortest path length increase significantly from $p=0.1$, this would indicate a futher reduction in the clustering. In other words, when $p=1$, the network will fully neglect the characteristc of wiring to close neighbours, but instead  choose uniformly at random to wire an edge to any node in the network. This will naturally result in shorter paths as the network becomes more intertwined."
   ]
  },
  {
   "cell_type": "code",
   "execution_count": null,
   "id": "b0300c09",
   "metadata": {},
   "outputs": [],
   "source": [
    "extracted_ds = {}\n",
    "\n",
    "ps = [0, 0.01, 0.03, 0.05, 0.1, 0.2]\n",
    "N = 500\n",
    "k = 4\n",
    "\n",
    "for i in range(50):\n",
    "    for p in ps:\n",
    "        WSG = nx.watts_strogatz_graph(N, k, p)\n",
    "        avg_path_length = nx.average_shortest_path_length(WSG)\n",
    "        if p not in extracted_ds:\n",
    "            extracted_ds[p] = [avg_path_length] \n",
    "        else:\n",
    "            extracted_ds[p].append(avg_path_length)\n"
   ]
  },
  {
   "cell_type": "code",
   "execution_count": null,
   "id": "8e2beef1",
   "metadata": {},
   "outputs": [],
   "source": [
    "# code block brought to you by chatGPT\n",
    "extracted_ds_avg = {p: sum(lengths)/len(lengths) for p, lengths in extracted_ds.items()}\n",
    "extracted_ds_sd = {p: (sum((x - extracted_ds_avg[p]) ** 2 for x in lengths) / len(lengths))**0.5 for p, lengths in extracted_ds.items()}"
   ]
  },
  {
   "cell_type": "code",
   "execution_count": null,
   "id": "d17d7123",
   "metadata": {},
   "outputs": [],
   "source": [
    "ds_avg = list(extracted_ds_avg.values())\n",
    "ds_sd = list(extracted_ds_sd.values())"
   ]
  },
  {
   "cell_type": "code",
   "execution_count": null,
   "id": "c8b33233",
   "metadata": {},
   "outputs": [],
   "source": [
    "plt.errorbar(ps, ds_avg, yerr=ds_sd, fmt='o', ecolor='r', capthick=2, color='black')\n",
    "plt.plot(ps, ds_avg, linestyle='-', color='black')\n",
    "plt.xlabel('Rewiring Probability (p)')\n",
    "plt.ylabel('Average Shortest Path Length ($<d>$)')\n",
    "plt.title('Average Shortest Path Length vs Rewiring Probability')\n",
    "figure_text = \"\"\"\n",
    "Figure 1: Average Shortest Path Length, <d>, as a function of Rewiring Probability, p, in a Watts-Strogatz Graph. The figure highlights that an increase in rewiring probability p,\n",
    "reduces clustering of the random network which in turn affects the average path lengths - reducing the average path length between nodes.\n",
    "\"\"\"\n",
    "plt.figtext(0.5, -0.15, \n",
    "            figure_text,\n",
    "            wrap=True, \n",
    "            horizontalalignment='center', \n",
    "            fontsize=10\n",
    "            )\n",
    "plt.show()"
   ]
  },
  {
   "cell_type": "markdown",
   "id": "a611af31",
   "metadata": {},
   "source": [
    "### Part 2:"
   ]
  },
  {
   "cell_type": "markdown",
   "id": "dfd7bca2",
   "metadata": {},
   "source": [
    "#### Exercises: BA edition."
   ]
  },
  {
   "cell_type": "markdown",
   "id": "f51d496b",
   "metadata": {},
   "source": [
    "**The three slope-dependent regimes of complex networks with power-law degree distributions**\n",
    "\n",
    "- **Anomalous Regime ($\\gamma \\leq 2$):**  \n",
    "  The number of links of the largest hub grows faster than the size of the network. For sufficiently large $N$, this brings forth anomalous features of scale-free networks, such as the largest hub exceeding the total number of nodes - essentially running out of nodes to connect to. In this regime, the average degree $\\langle k \\rangle$ diverges, allowing an infinite number of large hubs as $N \\rightarrow \\infty$ $^{(1)}$.  \n",
    "\n",
    "- **Scale-Free Regime ($2 < \\gamma < 3$):**  \n",
    "  This regime is characterized by a finite first moment of the degree distribution, $\\langle k \\rangle$, and a divergent second moment, $\\langle k^2 \\rangle$ $^{(1)}$. As $N \\rightarrow \\infty$, the tail of the degree distribution increases, creating a network that resembles an ultra small-world network. In other words, hubs with large degrees will grow without bound:  \n",
    "  $$\n",
    "  \\langle k^2 \\rangle \\rightarrow \\infty \\quad \\text{as} \\quad N \\rightarrow \\infty\n",
    "  $$  \n",
    "\n",
    "- **Random Network Regime ($\\gamma > 3$):**  \n",
    "  In this regime, both the first and second moments of the degree distribution are finite. The network tends toward the structure of a small-world network, and the properties of the scale-free network become difficult to distinguish from those of a random network of similar size. However, scale-free properties can still be observed, though doing so often requires unrealistically large network sizes $^{(1)}$.  \n",
    "\n",
    "**The three regimes in non-linear preferential attachment**  \n",
    "\n",
    "- **Sublinear Regime ($0 < \\alpha < 1$):**  \n",
    "  This preferential attachment generates minimal to no hubs, and the structure resembles that of a random network. However, the degree distribution follows a stretched exponential, where the largest hub has a degree approximated by $\\ln t^{\\frac{1}{1-\\alpha}}$ at time $t$ $^{(2)}$.  \n",
    "\n",
    "- **Linear Regime ($\\alpha = 1$):**  \n",
    "  Preferential attachment in the linear regime yields a network with scale-free properties, essentially mirroring the Barabási-Albert model. The degree distribution follows a power law, and the degree of the largest hub at time $t$ is given by $t^{\\frac{1}{\\gamma - 1}}$, where $\\gamma$ is the degree exponent of the scale-free network $^{(2)}$.  \n",
    "\n",
    "- **Superlinear Regime ($\\alpha > 1$):**  \n",
    "  In this regime, the tendency to link new nodes to already large nodes is amplified. This preferential attachment can therefore be described as a “rich-get-richer” process. The degree distribution is heavy-tailed with extremely large hubs, where the highest-degree node grows with time $t$ $^{(2)}$.  \n",
    "\n",
    "\\* The tendency mentioned here refers to a property of the Barabási-Albert model: earlier nodes tend to grow larger than later-arriving nodes. In other words, nodes generated early in the construction of the network have a “first-mover advantage,” as their opportunities to attract new links are much higher than those of later arrivals.  \n",
    "\n",
    "**References**  \n",
    "(1) *Network Science Book*, Chapter 4.7  \n",
    "(2) *Network Science Book*, Chapter 5.8  \n"
   ]
  },
  {
   "cell_type": "code",
   "execution_count": null,
   "id": "5552da87",
   "metadata": {},
   "outputs": [],
   "source": [
    "# Initialize the BA graph with two connected nodes\n",
    "BA = nx.Graph()\n",
    "BA.add_node(1)\n",
    "BA.add_node(2)\n",
    "BA.add_edge(1, 2)\n",
    "\n",
    "# Loop from 3 to 5000+1 to populate the graph with 5000 nodes\n",
    "for i in range(3, 5000+1):\n",
    "    # Add the new node\n",
    "    BA.add_node(i)\n",
    "    # We choose an existing node to connect to, with probability proportional to its degree (here we use itertools.chain to flatten the edge list)\n",
    "    chosen_node = random.choice(list(itertools.chain.from_iterable(edge for edge in BA.edges)))\n",
    "    # Add the edge between the new node and the chosen existing node\n",
    "    BA.add_edge(i, chosen_node)\n"
   ]
  },
  {
   "cell_type": "code",
   "execution_count": null,
   "id": "6fa58a47",
   "metadata": {},
   "outputs": [],
   "source": [
    "# Plot BA graph\n",
    "plt.figure(figsize=(12, 10))\n",
    "pos = nx.spring_layout(BA, k=0.2, iterations=100, seed=420)\n",
    "nx.draw(BA, pos=pos, node_size=7, width=0.5)\n",
    "plt.title(label=\"Home-Brewed Barabasi-Albert Random Graph\")\n",
    "plt.show()"
   ]
  },
  {
   "cell_type": "code",
   "execution_count": null,
   "id": "ffc78437",
   "metadata": {},
   "outputs": [],
   "source": [
    "# Gather edges for each node\n",
    "edges_count = {}\n",
    "for i in range(1, 5001):\n",
    "    edges_count[i] = len(BA.edges(i))"
   ]
  },
  {
   "cell_type": "code",
   "execution_count": null,
   "id": "1e92de7a",
   "metadata": {},
   "outputs": [],
   "source": [
    "# code block brought to you by chatGPT\n",
    "# Finds max and min degree nodes and their degrees\n",
    "max_degree_node = max(edges_count, key=edges_count.get)\n",
    "print(\"Node with highest degree:\", max_degree_node)\n",
    "print(\"Degree of that node:\", edges_count[max_degree_node])\n",
    "\n",
    "min_degree_node = min(edges_count, key=edges_count.get)\n",
    "print(\"Node with lowest degree:\", min_degree_node)\n",
    "print(\"Degree of that node:\", edges_count[min_degree_node])"
   ]
  },
  {
   "cell_type": "code",
   "execution_count": null,
   "id": "92132ce5",
   "metadata": {},
   "outputs": [],
   "source": [
    "# Create bins and edges based on degree counts and bin ranges based on maximum degree\n",
    "bins, edges = np.histogram(\n",
    "                        list(edges_count.values()), \n",
    "                        bins=range(1,  edges_count[max_degree_node]+2)\n",
    "                        )"
   ]
  },
  {
   "cell_type": "code",
   "execution_count": null,
   "id": "4713ce79",
   "metadata": {},
   "outputs": [],
   "source": [
    "plt.figure(figsize=(10, 4))\n",
    "plt.scatter(edges[:-1], bins, marker='v')\n",
    "plt.ylabel('Frequency')\n",
    "plt.xlabel('Degree (k)')\n",
    "plt.title('Degree Distribution of Home-Brewed Barabasi-Albert Random Network')\n",
    "plt.figtext(0.5, -0.10, \n",
    "            \"Figure 2: Degree Distribution of a Home-Brewed Barabasi-Albert Random Network (linear scale). The distribution shows the frequency of nodes having a specific degree k.\",\n",
    "            wrap=True, \n",
    "            horizontalalignment='center', \n",
    "            fontsize=10\n",
    "            )\n",
    "plt.show()"
   ]
  },
  {
   "cell_type": "code",
   "execution_count": null,
   "id": "dc5ddfc3",
   "metadata": {},
   "outputs": [],
   "source": [
    "plt.figure(figsize=(10, 4))\n",
    "plt.scatter(edges[:-1], bins, marker='v')\n",
    "plt.ylabel('Frequency')\n",
    "plt.xlabel('Degree (k)')\n",
    "plt.title('Degree Distribution of Home-Brewed Barabasi-Albert Random Network')\n",
    "plt.yscale('log')\n",
    "plt.xscale('log')\n",
    "plt.figtext(0.5, -0.10, \n",
    "            \"Figure 2: Degree Distribution of a Home-Brewed Barabasi-Albert Random Network (log scale). The distribution shows the frequency of nodes having a specific degree k.\",\n",
    "            wrap=True, \n",
    "            horizontalalignment='center', \n",
    "            fontsize=10\n",
    "            )\n",
    "plt.show()"
   ]
  }
 ],
 "metadata": {
  "kernelspec": {
   "display_name": "socialgraphs",
   "language": "python",
   "name": "python3"
  },
  "language_info": {
   "codemirror_mode": {
    "name": "ipython",
    "version": 3
   },
   "file_extension": ".py",
   "mimetype": "text/x-python",
   "name": "python",
   "nbconvert_exporter": "python",
   "pygments_lexer": "ipython3",
   "version": "3.11.13"
  }
 },
 "nbformat": 4,
 "nbformat_minor": 5
}
