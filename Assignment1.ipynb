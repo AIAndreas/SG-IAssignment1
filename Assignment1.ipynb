{
 "cells": [
  {
   "cell_type": "markdown",
   "id": "cdeb233b",
   "metadata": {},
   "source": [
    "# Assignment 1"
   ]
  },
  {
   "cell_type": "markdown",
   "id": "c18d371b",
   "metadata": {},
   "source": [
    "Authors: \n",
    "- Andreas Rosenquist (s214604)\n",
    "- Felix Lund Frandsen ()\n",
    "- Kasper Rønberg ()\n"
   ]
  },
  {
   "cell_type": "markdown",
   "id": "0c468ad1",
   "metadata": {},
   "source": [
    "## Assignment 1.1: Exploring WS and BA models"
   ]
  },
  {
   "cell_type": "code",
   "execution_count": null,
   "id": "7f908dd2",
   "metadata": {},
   "outputs": [],
   "source": [
    "import networkx as nx\n",
    "import matplotlib.pyplot as plt\n",
    "import itertools\n",
    "import random\n",
    "import numpy as np"
   ]
  },
  {
   "cell_type": "markdown",
   "id": "5dc49ac9",
   "metadata": {},
   "source": [
    "### Part 1:"
   ]
  },
  {
   "cell_type": "markdown",
   "id": "a66bb394",
   "metadata": {},
   "source": [
    "#### Exercises: Did you really read the text? Answer the following questions (no calculations needed) in your IPython notebook."
   ]
  },
  {
   "cell_type": "markdown",
   "id": "516c5b3a",
   "metadata": {},
   "source": [
    "- What's the problem with random networks as a model for real-world networks according to the argument in section 3.5 (near the end)?\n",
    "\n",
    "In random networks no clear outliers are apparent.\n",
    "\n",
    "- List the four regimes that characterize random networks as a function of ⟨k⟩\n",
    "\n",
    "Subcritical where k < 1, Critical Point where k = 1, Supercritcal Regime where k > 1, and Connected Regime where k > lnN\n",
    "\n",
    "- According to the book, why is it a problem for random networks (in terms of being a model for real-world networks) that the degree-dependent clustering C(k)\n",
    " decreases as a function of k\n",
    " in real-world networks?\n",
    "\n",
    " Due to random models not capturing the clustering coefficient, they become poor models for real networks."
   ]
  },
  {
   "cell_type": "markdown",
   "id": "23718316",
   "metadata": {},
   "source": [
    "#### Exercises: WS edition."
   ]
  },
  {
   "cell_type": "markdown",
   "id": "ae2abbb9",
   "metadata": {},
   "source": [
    "#### First, let's use networkx to play around with WS graphs. Use nx.watts_strogatz_graph to generate 3 graphs with 500 nodes each, average degree = 4, and rewiring probablity  p=0,0.1, and  1.Calculate the average shortest path length  ⟨d⟩ for each one."
   ]
  },
  {
   "cell_type": "code",
   "execution_count": null,
   "id": "b791387d",
   "metadata": {},
   "outputs": [],
   "source": [
    "N = 500\n",
    "k = 4\n",
    "p = [0, 0.1, 1]\n",
    "\n",
    "WG0 = nx.watts_strogatz_graph(N, k, p[0])\n",
    "WG1 = nx.watts_strogatz_graph(N, k, p[1])\n",
    "WG2 = nx.watts_strogatz_graph(N, k, p[2])  "
   ]
  },
  {
   "cell_type": "code",
   "execution_count": null,
   "id": "57c2c9a6",
   "metadata": {},
   "outputs": [],
   "source": [
    "WG0_avg_path_length = nx.average_shortest_path_length(WG0)\n",
    "WG1_avg_path_length = nx.average_shortest_path_length(WG1)\n",
    "WG2_avg_path_length = nx.average_shortest_path_length(WG2)\n",
    "print(\"Average path length for p=0: \", WG0_avg_path_length)\n",
    "print(\"Average path length for p=0.1: \", WG1_avg_path_length)\n",
    "print(\"Average path length for p=1: \", WG2_avg_path_length)"
   ]
  },
  {
   "cell_type": "markdown",
   "id": "14454f6c",
   "metadata": {},
   "source": [
    "#### Describe what happens to the network when  p=1."
   ]
  },
  {
   "cell_type": "markdown",
   "id": "460fd13f",
   "metadata": {},
   "source": [
    "Increasing the paramter p will increase the randomness of the network, i.e. reducing the clustering of the random network. A intermediate p will resemble the small world phenomenon of random networks, as the wiring of the edges will be more random and not only focus on the k-nearest neighbours. At p=1 we see that the average shortest path length increase significantly from p=0.1, this would indicate a futher reduction in the clustering. In other words, at p=1 for the Watt-Strogatz random network it will fully neglect the characteristc of wiring to close neighbours, but instead  choosing uniformly at random to wire an edge to any node in the network. This will naturally result in shorter paths as the network becomes more intertwined."
   ]
  },
  {
   "cell_type": "code",
   "execution_count": null,
   "id": "b0300c09",
   "metadata": {},
   "outputs": [],
   "source": [
    "extracted_ds = {}\n",
    "\n",
    "ps = [0, 0.01, 0.03, 0.05, 0.1, 0.2]\n",
    "N = 500\n",
    "k = 4\n",
    "\n",
    "for i in range(50):\n",
    "    for p in ps:\n",
    "        WSG = nx.watts_strogatz_graph(N, k, p)\n",
    "        avg_path_length = nx.average_shortest_path_length(WSG)\n",
    "        if p not in extracted_ds:\n",
    "            extracted_ds[p] = [avg_path_length] \n",
    "        else:\n",
    "            extracted_ds[p].append(avg_path_length)\n"
   ]
  },
  {
   "cell_type": "code",
   "execution_count": null,
   "id": "8e2beef1",
   "metadata": {},
   "outputs": [],
   "source": [
    "# code block brought to you by chatGPT\n",
    "extracted_ds_avg = {p: sum(lengths)/len(lengths) for p, lengths in extracted_ds.items()}\n",
    "extracted_ds_sd = {p: (sum((x - extracted_ds_avg[p]) ** 2 for x in lengths) / len(lengths))**0.5 for p, lengths in extracted_ds.items()}"
   ]
  },
  {
   "cell_type": "code",
   "execution_count": null,
   "id": "d17d7123",
   "metadata": {},
   "outputs": [],
   "source": [
    "ds_avg = list(extracted_ds_avg.values())\n",
    "ds_sd = list(extracted_ds_sd.values())"
   ]
  },
  {
   "cell_type": "code",
   "execution_count": null,
   "id": "c8b33233",
   "metadata": {},
   "outputs": [],
   "source": [
    "plt.errorbar(ps, ds_avg, yerr=ds_sd, fmt='o', ecolor='r', capthick=2, color='black')\n",
    "plt.plot(ps, ds_avg, linestyle='-', color='black')\n",
    "plt.xlabel('Rewiring Probability (p)')\n",
    "plt.ylabel('Average Shortest Path Length ($<d>$)')\n",
    "plt.title('Average Shortest Path Length vs Rewiring Probability')\n",
    "figure_text = \"\"\"\n",
    "Figure 1: Average Shortest Path Length, <d>, as a function of Rewiring Probability, p, in a Watts-Strogatz Graph. The figure highlights that an increase in rewiring probability p,\n",
    "reduces clustering of the random network which in turn affects the average path lengths - reducing the average path length between nodes.\n",
    "\"\"\"\n",
    "plt.figtext(0.5, -0.15, \n",
    "            figure_text,\n",
    "            wrap=True, \n",
    "            horizontalalignment='center', \n",
    "            fontsize=10\n",
    "            )\n",
    "plt.show()"
   ]
  },
  {
   "cell_type": "markdown",
   "id": "a611af31",
   "metadata": {},
   "source": [
    "### Part 2:"
   ]
  },
  {
   "cell_type": "code",
   "execution_count": null,
   "id": "5552da87",
   "metadata": {},
   "outputs": [],
   "source": [
    "# Initialize the BA graph with two connected nodes\n",
    "BA = nx.Graph()\n",
    "BA.add_node(1)\n",
    "BA.add_node(2)\n",
    "BA.add_edge(1, 2)\n",
    "\n",
    "# Loop from 3 to 5000+1 to populate the graph with 5000 nodes\n",
    "for i in range(3, 5000+1):\n",
    "    # Add the new node\n",
    "    BA.add_node(i)\n",
    "    # We choose an existing node to connect to, with probability proportional to its degree (here we use itertools.chain to flatten the edge list)\n",
    "    chosen_node = random.choice(list(itertools.chain.from_iterable(edge for edge in BA.edges)))\n",
    "    # Add the edge between the new node and the chosen existing node\n",
    "    BA.add_edge(i, chosen_node)\n"
   ]
  },
  {
   "cell_type": "code",
   "execution_count": null,
   "id": "6fa58a47",
   "metadata": {},
   "outputs": [],
   "source": [
    "# Plot BA graph\n",
    "plt.figure(figsize=(12, 10))\n",
    "pos = nx.spring_layout(BA, k=0.2, iterations=100, seed=420)\n",
    "nx.draw(BA, pos=pos, node_size=7, width=0.5)\n",
    "plt.title(label=\"Home-Brewed Barabasi-Albert Random Graph\")\n",
    "plt.show()"
   ]
  },
  {
   "cell_type": "code",
   "execution_count": null,
   "id": "ffc78437",
   "metadata": {},
   "outputs": [],
   "source": [
    "# Gather edges for each node\n",
    "edges_count = {}\n",
    "for i in range(1, 5001):\n",
    "    edges_count[i] = len(BA.edges(i))"
   ]
  },
  {
   "cell_type": "code",
   "execution_count": null,
   "id": "1e92de7a",
   "metadata": {},
   "outputs": [],
   "source": [
    "# code block brought to you by chatGPT\n",
    "# Finds max and min degree nodes and their degrees\n",
    "max_degree_node = max(edges_count, key=edges_count.get)\n",
    "print(\"Node with highest degree:\", max_degree_node)\n",
    "print(\"Degree of that node:\", edges_count[max_degree_node])\n",
    "\n",
    "min_degree_node = min(edges_count, key=edges_count.get)\n",
    "print(\"Node with lowest degree:\", min_degree_node)\n",
    "print(\"Degree of that node:\", edges_count[min_degree_node])"
   ]
  },
  {
   "cell_type": "code",
   "execution_count": null,
   "id": "92132ce5",
   "metadata": {},
   "outputs": [],
   "source": [
    "# Create bins and edges based on degree counts and bin ranges based on maximum degree\n",
    "bins, edges = np.histogram(\n",
    "                        list(edges_count.values()), \n",
    "                        bins=range(1,  edges_count[max_degree_node]+2)\n",
    "                        )"
   ]
  },
  {
   "cell_type": "code",
   "execution_count": null,
   "id": "4713ce79",
   "metadata": {},
   "outputs": [],
   "source": [
    "plt.figure(figsize=(10, 4))\n",
    "plt.scatter(edges[:-1], bins, marker='v')\n",
    "plt.ylabel('Frequency')\n",
    "plt.xlabel('Degree (k)')\n",
    "plt.title('Degree Distribution of Home-Brewed Barabasi-Albert Random Network')\n",
    "plt.figtext(0.5, -0.10, \n",
    "            \"Figure 2: Degree Distribution of a Home-Brewed Barabasi-Albert Random Network (linear scale). The distribution shows the frequency of nodes having a specific degree k.\",\n",
    "            wrap=True, \n",
    "            horizontalalignment='center', \n",
    "            fontsize=10\n",
    "            )\n",
    "plt.show()"
   ]
  },
  {
   "cell_type": "code",
   "execution_count": null,
   "id": "dc5ddfc3",
   "metadata": {},
   "outputs": [],
   "source": [
    "plt.figure(figsize=(10, 4))\n",
    "plt.scatter(edges[:-1], bins, marker='v')\n",
    "plt.ylabel('Frequency')\n",
    "plt.xlabel('Degree (k)')\n",
    "plt.title('Degree Distribution of Home-Brewed Barabasi-Albert Random Network')\n",
    "plt.yscale('log')\n",
    "plt.xscale('log')\n",
    "plt.figtext(0.5, -0.10, \n",
    "            \"Figure 2: Degree Distribution of a Home-Brewed Barabasi-Albert Random Network (log scale). The distribution shows the frequency of nodes having a specific degree k.\",\n",
    "            wrap=True, \n",
    "            horizontalalignment='center', \n",
    "            fontsize=10\n",
    "            )\n",
    "plt.show()"
   ]
  }
 ],
 "metadata": {
  "kernelspec": {
   "display_name": "socialgraphs",
   "language": "python",
   "name": "python3"
  },
  "language_info": {
   "codemirror_mode": {
    "name": "ipython",
    "version": 3
   },
   "file_extension": ".py",
   "mimetype": "text/x-python",
   "name": "python",
   "nbconvert_exporter": "python",
   "pygments_lexer": "ipython3",
   "version": "3.11.13"
  }
 },
 "nbformat": 4,
 "nbformat_minor": 5
}
