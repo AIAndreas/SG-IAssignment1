{
 "cells": [
  {
   "cell_type": "markdown",
   "id": "cdeb233b",
   "metadata": {},
   "source": [
    "# Assignment 1"
   ]
  },
  {
   "cell_type": "markdown",
   "id": "c18d371b",
   "metadata": {},
   "source": [
    "Authors: \n",
    "- Andreas Rosenquist (s214604)\n",
    "- Felix Lund Frandsen ()\n",
    "- Kasper Rønberg (s214786)\n"
   ]
  },
  {
   "cell_type": "markdown",
   "id": "0c468ad1",
   "metadata": {},
   "source": [
    "## Assignment 1.1: Exploring WS and BA models"
   ]
  },
  {
   "cell_type": "code",
   "execution_count": null,
   "id": "7f908dd2",
   "metadata": {},
   "outputs": [],
   "source": [
    "# Import necessary libraries\n",
    "import networkx as nx\n",
    "import matplotlib.pyplot as plt\n",
    "import seaborn as sns\n",
    "import itertools\n",
    "import random\n",
    "import numpy as np\n",
    "import requests\n",
    "import os\n",
    "import re\n",
    "\n",
    "# Set seaborn style\n",
    "sns.set(style=\"darkgrid\")"
   ]
  },
  {
   "cell_type": "markdown",
   "id": "5dc49ac9",
   "metadata": {},
   "source": [
    "### Part 1:"
   ]
  },
  {
   "cell_type": "markdown",
   "id": "a66bb394",
   "metadata": {},
   "source": [
    "#### Exercises: Did you really read the text? Answer the following questions (no calculations needed) in your IPython notebook."
   ]
  },
  {
   "cell_type": "markdown",
   "id": "516c5b3a",
   "metadata": {},
   "source": [
    "**Why Random Networks are better model for real-world Networks**\n",
    "\n",
    "Random Networks will not create clear outliers. As an example, a random network could not replicate the properties of a social network, as there would be no highly popular person, or someone with zero friends (outliers). As described in the book; in a large random network the degree of most nodes would be close to the average degree $\\langle k \\rangle$ $^{(1)}$.\n",
    "\n",
    "**The four Regimes of Random Networks:**\n",
    "\n",
    "- Subcritical: $\\langle k \\rangle < 1$\n",
    "- Critical Point: $\\langle k \\rangle = 1$  \n",
    "- Supercritcal Regime: $\\langle k \\rangle > 1$\n",
    "- Connected Regime: $\\langle k \\rangle > \\ln N$ $^{(2)}$\n",
    "\n",
    "**Problems of Clustering Coefficient $C(k)$ for random networks compared to real-world networks**\n",
    "\n",
    "In Random Networks, $C(k)$ decreases with the increase of $N$. In other words, the cluserting coefficent decreases when the size of the random network increases. This is problematic as a model for real-world networks, because real-world networks and their clustering coefficient are independent of network size, $N$. $^{(3)}$\n",
    "\n",
    "\n",
    "**References** \n",
    "(1) Network Science Book, Chapter 3.5\n",
    "(2) Network Science Book, Chapter 3.6\n",
    "(3) Network Science Book, Chapter 3.9"
   ]
  },
  {
   "cell_type": "markdown",
   "id": "23718316",
   "metadata": {},
   "source": [
    "#### Exercises: WS edition."
   ]
  },
  {
   "cell_type": "code",
   "execution_count": null,
   "id": "b791387d",
   "metadata": {},
   "outputs": [],
   "source": [
    "N = 500\n",
    "k = 4\n",
    "p = [0, 0.1, 1]\n",
    "\n",
    "WG0 = nx.watts_strogatz_graph(N, k, p[0])\n",
    "WG1 = nx.watts_strogatz_graph(N, k, p[1])\n",
    "WG2 = nx.watts_strogatz_graph(N, k, p[2])  "
   ]
  },
  {
   "cell_type": "code",
   "execution_count": null,
   "id": "57c2c9a6",
   "metadata": {},
   "outputs": [],
   "source": [
    "WG0_avg_path_length = nx.average_shortest_path_length(WG0)\n",
    "WG1_avg_path_length = nx.average_shortest_path_length(WG1)\n",
    "WG2_avg_path_length = nx.average_shortest_path_length(WG2)\n",
    "print(\"Average path length for p=0: \", WG0_avg_path_length)\n",
    "print(\"Average path length for p=0.1: \", WG1_avg_path_length)\n",
    "print(\"Average path length for p=1: \", WG2_avg_path_length)"
   ]
  },
  {
   "cell_type": "markdown",
   "id": "460fd13f",
   "metadata": {},
   "source": [
    "**Watt-Strogatz model at Rewiring Probability $(p)$ of 1**\n",
    "\n",
    "Increasing the paramter p will increase the randomness of the network, i.e. reducing the clustering of the random network. An intermediate $p$ will resemble the small world phenomenon of random networks, as the wiring of the edges will be more random and not only focus on the k-nearest neighbours. At $p=1$ we see that the average shortest path length increase significantly from $p=0.1$, this would indicate a futher reduction in the clustering. In other words, when $p=1$, the network will fully neglect the characteristc of wiring to close neighbours, but instead  choose uniformly at random to wire an edge to any node in the network. This will naturally result in shorter paths as the network becomes more intertwined."
   ]
  },
  {
   "cell_type": "code",
   "execution_count": null,
   "id": "b0300c09",
   "metadata": {},
   "outputs": [],
   "source": [
    "extracted_ds = {}\n",
    "\n",
    "ps = [0, 0.01, 0.03, 0.05, 0.1, 0.2]\n",
    "N = 500\n",
    "k = 4\n",
    "\n",
    "for i in range(50):\n",
    "    for p in ps:\n",
    "        WSG = nx.watts_strogatz_graph(N, k, p)\n",
    "        avg_path_length = nx.average_shortest_path_length(WSG)\n",
    "        if p not in extracted_ds:\n",
    "            extracted_ds[p] = [avg_path_length] \n",
    "        else:\n",
    "            extracted_ds[p].append(avg_path_length)\n"
   ]
  },
  {
   "cell_type": "code",
   "execution_count": null,
   "id": "8e2beef1",
   "metadata": {},
   "outputs": [],
   "source": [
    "# code block brought to you by chatGPT\n",
    "extracted_ds_avg = {p: sum(lengths)/len(lengths) for p, lengths in extracted_ds.items()}\n",
    "extracted_ds_sd = {p: (sum((x - extracted_ds_avg[p]) ** 2 for x in lengths) / len(lengths))**0.5 for p, lengths in extracted_ds.items()}"
   ]
  },
  {
   "cell_type": "code",
   "execution_count": null,
   "id": "d17d7123",
   "metadata": {},
   "outputs": [],
   "source": [
    "ds_avg = list(extracted_ds_avg.values())\n",
    "ds_sd = list(extracted_ds_sd.values())"
   ]
  },
  {
   "cell_type": "code",
   "execution_count": null,
   "id": "c8b33233",
   "metadata": {},
   "outputs": [],
   "source": [
    "plt.errorbar(ps, ds_avg, yerr=ds_sd, fmt='o', ecolor='r', capthick=2, color='black')\n",
    "plt.plot(ps, ds_avg, linestyle='-', color='black')\n",
    "plt.xlabel('Rewiring Probability (p)')\n",
    "plt.ylabel('Average Shortest Path Length ($<d>$)')\n",
    "plt.title('Average Shortest Path Length vs Rewiring Probability')\n",
    "figure_text = \"\"\"\n",
    "Figure 1: Average Shortest Path Length, <d>, as a function of Rewiring Probability, p, in a Watts-Strogatz Graph. The figure highlights that an increase in rewiring probability p,\n",
    "reduces clustering of the random network which in turn affects the average path lengths - reducing the average path length between nodes.\n",
    "\"\"\"\n",
    "plt.figtext(0.5, -0.15, \n",
    "            figure_text,\n",
    "            wrap=True, \n",
    "            horizontalalignment='center', \n",
    "            fontsize=10\n",
    "            )\n",
    "plt.show()"
   ]
  },
  {
   "cell_type": "markdown",
   "id": "a611af31",
   "metadata": {},
   "source": [
    "### Part 2:"
   ]
  },
  {
   "cell_type": "markdown",
   "id": "dfd7bca2",
   "metadata": {},
   "source": [
    "#### Exercises: BA edition."
   ]
  },
  {
   "cell_type": "markdown",
   "id": "f51d496b",
   "metadata": {},
   "source": [
    "**The three slope-dependent regimes of complex networks with power-law degree distributions**\n",
    "\n",
    "- **Anomalous Regime ($\\gamma \\leq 2$):**  \n",
    "  The number of links of the largest hub grows faster than the size of the network. For sufficiently large $N$, this brings forth anomalous features of scale-free networks, such as the largest hub exceeding the total number of nodes - essentially running out of nodes to connect to. In this regime, the average degree $\\langle k \\rangle$ diverges, allowing an infinite number of large hubs as $N \\rightarrow \\infty$ $^{(1)}$.  \n",
    "\n",
    "- **Scale-Free Regime ($2 < \\gamma < 3$):**  \n",
    "  This regime is characterized by a finite first moment of the degree distribution, $\\langle k \\rangle$, and a divergent second moment, $\\langle k^2 \\rangle$ $^{(1)}$. As $N \\rightarrow \\infty$, the tail of the degree distribution increases, creating a network that resembles an ultra small-world network. In other words, hubs with large degrees will grow without bound:  \n",
    "  $$\n",
    "  \\langle k^2 \\rangle \\rightarrow \\infty \\quad \\text{as} \\quad N \\rightarrow \\infty\n",
    "  $$  \n",
    "\n",
    "- **Random Network Regime ($\\gamma > 3$):**  \n",
    "  In this regime, both the first and second moments of the degree distribution are finite. The network tends toward the structure of a small-world network, and the properties of the scale-free network become difficult to distinguish from those of a random network of similar size. However, scale-free properties can still be observed, though doing so often requires unrealistically large network sizes $^{(1)}$.  \n",
    "\n",
    "**The three regimes in non-linear preferential attachment**  \n",
    "\n",
    "- **Sublinear Regime ($0 < \\alpha < 1$):**  \n",
    "  This preferential attachment generates minimal to no hubs, and the structure resembles that of a random network. However, the degree distribution follows a stretched exponential, where the largest hub has a degree approximated by $\\ln t^{\\frac{1}{1-\\alpha}}$ at time $t$ $^{(2)}$.  \n",
    "\n",
    "- **Linear Regime ($\\alpha = 1$):**  \n",
    "  Preferential attachment in the linear regime yields a network with scale-free properties, essentially mirroring the Barabási-Albert model. The degree distribution follows a power law, and the degree of the largest hub at time $t$ is given by $t^{\\frac{1}{\\gamma - 1}}$, where $\\gamma$ is the degree exponent of the scale-free network $^{(2)}$.  \n",
    "\n",
    "- **Superlinear Regime ($\\alpha > 1$):**  \n",
    "  In this regime, the tendency to link new nodes to already large nodes is amplified. This preferential attachment can therefore be described as a “rich-get-richer” process. The degree distribution is heavy-tailed with extremely large hubs, where the highest-degree node grows with time $t$ $^{(2)}$.  \n",
    "\n",
    "\\* The tendency mentioned here refers to a property of the Barabási-Albert model: earlier nodes tend to grow larger than later-arriving nodes. In other words, nodes generated early in the construction of the network have a “first-mover advantage,” as their opportunities to attract new links are much higher than those of later arrivals.  \n",
    "\n",
    "**References**  \n",
    "(1) *Network Science Book*, Chapter 4.7  \n",
    "(2) *Network Science Book*, Chapter 5.8  \n"
   ]
  },
  {
   "cell_type": "code",
   "execution_count": null,
   "id": "5552da87",
   "metadata": {},
   "outputs": [],
   "source": [
    "# Initialize the BA graph with two connected nodes\n",
    "BA = nx.Graph()\n",
    "BA.add_node(1)\n",
    "BA.add_node(2)\n",
    "BA.add_edge(1, 2)\n",
    "\n",
    "# Loop from 3 to 5000+1 to populate the graph with 5000 nodes\n",
    "for i in range(3, 5000+1):\n",
    "    # Add the new node\n",
    "    BA.add_node(i)\n",
    "    # We choose an existing node to connect to, with probability proportional to its degree (here we use itertools.chain to flatten the edge list)\n",
    "    chosen_node = random.choice(list(itertools.chain.from_iterable(edge for edge in BA.edges)))\n",
    "    # Add the edge between the new node and the chosen existing node\n",
    "    BA.add_edge(i, chosen_node)\n"
   ]
  },
  {
   "cell_type": "code",
   "execution_count": null,
   "id": "6fa58a47",
   "metadata": {},
   "outputs": [],
   "source": [
    "# Plot BA graph\n",
    "plt.figure(figsize=(12, 10))\n",
    "pos = nx.spring_layout(BA, k=0.2, iterations=100, seed=420)\n",
    "nx.draw(BA, pos=pos, node_size=7, width=0.5)\n",
    "plt.title(label=\"Home-Brewed Barabasi-Albert Random Graph\")\n",
    "plt.show()"
   ]
  },
  {
   "cell_type": "code",
   "execution_count": null,
   "id": "ffc78437",
   "metadata": {},
   "outputs": [],
   "source": [
    "# Gather edges for each node\n",
    "edges_count = {}\n",
    "for i in range(1, 5001):\n",
    "    edges_count[i] = len(BA.edges(i))"
   ]
  },
  {
   "cell_type": "code",
   "execution_count": null,
   "id": "1e92de7a",
   "metadata": {},
   "outputs": [],
   "source": [
    "# code block brought to you by chatGPT\n",
    "# Finds max and min degree nodes and their degrees\n",
    "max_degree_node = max(edges_count, key=edges_count.get)\n",
    "print(\"Node with highest degree:\", max_degree_node)\n",
    "print(\"Degree of that node:\", edges_count[max_degree_node])\n",
    "\n",
    "min_degree_node = min(edges_count, key=edges_count.get)\n",
    "print(\"Node with lowest degree:\", min_degree_node)\n",
    "print(\"Degree of that node:\", edges_count[min_degree_node])"
   ]
  },
  {
   "cell_type": "code",
   "execution_count": null,
   "id": "92132ce5",
   "metadata": {},
   "outputs": [],
   "source": [
    "# Create bins and edges based on degree counts and bin ranges based on maximum degree\n",
    "bins, edges = np.histogram(\n",
    "                        list(edges_count.values()), \n",
    "                        bins=range(1,  edges_count[max_degree_node]+2)\n",
    "                        )"
   ]
  },
  {
   "cell_type": "code",
   "execution_count": null,
   "id": "4713ce79",
   "metadata": {},
   "outputs": [],
   "source": [
    "plt.figure(figsize=(10, 4))\n",
    "plt.scatter(edges[:-1], bins, marker='v')\n",
    "plt.ylabel('Frequency')\n",
    "plt.xlabel('Degree (k)')\n",
    "plt.title('Degree Distribution of Home-Brewed Barabasi-Albert Random Network')\n",
    "plt.figtext(0.5, -0.10, \n",
    "            \"Figure 2: Degree Distribution of a Home-Brewed Barabasi-Albert Random Network (linear scale). The distribution shows the frequency of nodes having a specific degree k.\",\n",
    "            wrap=True, \n",
    "            horizontalalignment='center', \n",
    "            fontsize=10\n",
    "            )\n",
    "plt.show()"
   ]
  },
  {
   "cell_type": "code",
   "execution_count": null,
   "id": "dc5ddfc3",
   "metadata": {},
   "outputs": [],
   "source": [
    "plt.figure(figsize=(10, 4))\n",
    "plt.scatter(edges[:-1], bins, marker='v')\n",
    "plt.ylabel('Frequency')\n",
    "plt.xlabel('Degree (k)')\n",
    "plt.title('Degree Distribution of Home-Brewed Barabasi-Albert Random Network')\n",
    "plt.yscale('log')\n",
    "plt.xscale('log')\n",
    "plt.figtext(0.5, -0.10, \n",
    "            \"Figure 2: Degree Distribution of a Home-Brewed Barabasi-Albert Random Network (log scale). The distribution shows the frequency of nodes having a specific degree k.\",\n",
    "            wrap=True, \n",
    "            horizontalalignment='center', \n",
    "            fontsize=10\n",
    "            )\n",
    "plt.show()"
   ]
  },
  {
   "cell_type": "markdown",
   "id": "00d44d1b",
   "metadata": {},
   "source": [
    "## Assignment 1.2 Stats and visualization of the Rock Music Network"
   ]
  },
  {
   "cell_type": "markdown",
   "id": "ea64b81f",
   "metadata": {},
   "source": [
    "### 1.2.1 Explain your process in words\n",
    "\n",
    "#### First, simply describe the steps of the process (what you did, step by step).\n",
    "\n",
    "First, we collected a list of rock bands and performers from a Wikipedia page. Using regular expressions, we extracted all the links from this page. The performer names were then isolated, and the corresponding pages were downloaded, stored as JSON files, and saved to a text file. Next, we initialized a directed graph using networkx. Each performer was added as a node, with their word count stored as a node attribute. We then scraped the performer text file for links, and if a link matched another performer in our dataset, we added it as a directed edge. Finally, we removed isolated nodes and extracted the largest weakly connected component. \n",
    "\n",
    "#### Then, write a short section about which part of the process that was most difficult.\n",
    "\n",
    "The most challenging part was extracting the JSON files from the Wikipedia pages, as we encountered a 403 Bad Gateway error. Furthermore, many wiki-links were outdated and required redirecting, which caused us to extract empty wiki-pages. This caused several issues and required a debugging session. We ultimately resolved the problems by specifying a user agent and adding the redirect as a parameter.\n",
    "\n",
    "#### Next write a short section about how you used LLMs to help you.\n",
    "\n",
    "We used LLMs to help debug the code when we encountered problems and to review our code for potential errors that could lead to incorrect data extraction.\n",
    "\n",
    "#### Finally, compose a short section about what you would do differently if you had to do it again\n",
    "\n",
    "We would set up stronger filtering before downloading pages; making sure to drop categories and resolve redirects before fetching the wiki-pages. We would also implement error handling from the start to catch any empty wiki-pages by having a minimum characters filter and an error warning for fetching bad files. "
   ]
  },
  {
   "cell_type": "markdown",
   "id": "3460cbf3",
   "metadata": {},
   "source": [
    "### 1.2.3 Simple network statistics and analysis"
   ]
  },
  {
   "cell_type": "markdown",
   "id": "b360928c",
   "metadata": {},
   "source": [
    "##### Download and load the network from github."
   ]
  },
  {
   "cell_type": "code",
   "execution_count": null,
   "id": "f3e8e59d",
   "metadata": {},
   "outputs": [],
   "source": [
    "# download the graph as a gml file from github\n",
    "url = \"https://raw.githubusercontent.com/AIAndreas/SG-IAssignment1/main/data/rock_performers_graph.gml\"\n",
    "response = requests.get(url)\n",
    "\n",
    "with open(\"rock_performers_graph.gml\", \"wb\") as file:\n",
    "    file.write(response.content)\n",
    "\n",
    "# Load the graph from the gml file\n",
    "G = nx.read_gml(\"rock_performers_graph.gml\")"
   ]
  },
  {
   "cell_type": "markdown",
   "id": "aad0340a",
   "metadata": {},
   "source": [
    "#### What is the number of nodes in the network?"
   ]
  },
  {
   "cell_type": "code",
   "execution_count": null,
   "id": "c3f6040f",
   "metadata": {},
   "outputs": [],
   "source": [
    "print(f\"The graph has {G.number_of_nodes()} nodes.\")"
   ]
  },
  {
   "cell_type": "markdown",
   "id": "b03c2f9b",
   "metadata": {},
   "source": [
    "#### More importantly, what is the number of links?"
   ]
  },
  {
   "cell_type": "code",
   "execution_count": null,
   "id": "ca82f512",
   "metadata": {},
   "outputs": [],
   "source": [
    "print(f\"The graph has {G.number_of_edges()} edges.\")"
   ]
  },
  {
   "cell_type": "markdown",
   "id": "98a49d6d",
   "metadata": {},
   "source": [
    "#### Plot the in and out-degree distributions for the entire network. What do you observe? Can you explain why the in-degree distribution is different from the out-degree distribution?\n",
    "\n",
    "- Compare the out-degree distribution to a random network with the same number of nodes and links.\n",
    "\n",
    "- Compare the in-degree distribution to a scale-free network with the same number of nodes.\n"
   ]
  },
  {
   "cell_type": "code",
   "execution_count": null,
   "id": "d018eb55",
   "metadata": {},
   "outputs": [],
   "source": [
    "# Reference graphs for comparison\n",
    "random_graph = nx.gnm_random_graph(\n",
    "    G.number_of_nodes(), G.number_of_edges(), \n",
    "    directed=True\n",
    "    )\n",
    "\n",
    "scale_free_graph = nx.scale_free_graph(\n",
    "    G.number_of_nodes()).to_directed()\n",
    "\n",
    "in_degrees_G = [d for n, d in G.in_degree()]\n",
    "out_degrees_G = [d for n, d in G.out_degree()]\n",
    "\n",
    "out_degrees_random = [d for n, d in random_graph.out_degree()]\n",
    "in_degrees_scale_free = [d for n, d in scale_free_graph.in_degree()]\n",
    "\n",
    "def plot_degree_distribution(degrees, title, ax, xlabel='Degree (k)', ylabel='Frequency'):\n",
    "    bins, edges = np.histogram(degrees, bins=range(1, max(degrees)+2))\n",
    "    ax.scatter(edges[:-1], bins, marker='o', alpha=0.6)\n",
    "    ax.set_title(title)\n",
    "    ax.set_xlabel(xlabel)\n",
    "    ax.set_ylabel(ylabel)\n",
    "    ax.set_xscale('log')\n",
    "    ax.set_yscale('log')\n",
    "\n",
    "fig, axs = plt.subplots(2, 2, figsize=(18, 10))\n",
    "plot_degree_distribution(out_degrees_G, 'Out-Degree Distribution of Rock Performers Graph', axs[0, 0])\n",
    "plot_degree_distribution(in_degrees_G, 'In-Degree Distribution of Rock Performers Graph', axs[0, 1])\n",
    "plot_degree_distribution(out_degrees_random, 'Out-Degree Distribution of Random Graph', axs[1, 0])\n",
    "plot_degree_distribution(in_degrees_scale_free, 'In-Degree Distribution of Scale-Free Graph', axs[1, 1])\n",
    "plt.tight_layout()\n",
    "plt.show()"
   ]
  },
  {
   "cell_type": "markdown",
   "id": "83a82167",
   "metadata": {},
   "source": [
    "The random network follows the expected Poisson distribution, with most nodes having degrees clustered around the mean and very few outliers. In contrast, the rock performers’ out-degree distribution is more dispersed and exhibits a heavier tail. This means that while most performers reference only a few others, some reference disproportionately many. \n",
    "\n",
    "The rock performers’ in-degree distribution shows a clear heavy-tailed pattern, even more pronounced than the scale-free network. This suggests a preferential attachment pattern (insert ref); performers who are already well-known or influential are disproportionately more likely to be referenced by new entrants, leading to the emergence of hubs."
   ]
  },
  {
   "cell_type": "markdown",
   "id": "38bd3527",
   "metadata": {},
   "source": [
    "#### Who are the top 5 most connected performers (Report results for in-degrees and out-degrees, that is, who has highest in-degree, who has highest out-degree)? Comment on your findings. Is this what you would have expected?"
   ]
  },
  {
   "cell_type": "code",
   "execution_count": null,
   "id": "c344b2b4",
   "metadata": {},
   "outputs": [],
   "source": [
    "# find top 5 most connected performers by in-degree and out-degree\n",
    "top_in_degree = sorted(G.in_degree(), key=lambda x: x[1], \n",
    "                       reverse=True)[:5]\n",
    "\n",
    "top_out_degree = sorted(G.out_degree(), key=lambda x: x[1], \n",
    "                        reverse=True)[:5]\n",
    "\n",
    "# Remove text in parentheses and underscores from performer names\n",
    "def normalize_label(raw_name: str) -> str:\n",
    "    label = raw_name.replace('_', ' ')\n",
    "    label = re.sub(r'\\s*\\(.*?\\)\\s*', '', label)\n",
    "    return label.strip()\n",
    "\n",
    "top_in_degree = [(normalize_label(name), degree) for name, degree in top_in_degree]\n",
    "top_out_degree = [(normalize_label(name), degree) for name, degree in top_out_degree]\n",
    "\n",
    "print(\"Top 5 performers by in-degree:\")\n",
    "for i, (performer, degree) in enumerate(top_in_degree):\n",
    "    print(f\"{i+1}. {performer}, In-Degree: {degree}\")\n",
    "\n",
    "print(\"\\nTop 5 performers by out-degree:\")\n",
    "for i, (performer, degree) in enumerate(top_out_degree):\n",
    "    print(f\"{i+1}. {performer}, Out-Degree: {degree}\")\n"
   ]
  },
  {
   "cell_type": "markdown",
   "id": "a0e0ad14",
   "metadata": {},
   "source": [
    "The performers with the highest in-degrees are well-known rock bands or artists with significant influence and recognition in the music industry. This makes sense because their Wikipedia pages are frequently referenced by other performers, likely due to their historical importance, collaborations, or influence on the genre. \n",
    "\n",
    "On the other hand, the performers with the highest out-degrees include some lesser-known artists. This observation is also logical, as a high out-degree suggests that these performers' Wikipedia pages link to many other performers. This could be due to their extensive collaborations, inspirations, or influences from a wide range of artists."
   ]
  },
  {
   "cell_type": "markdown",
   "id": "fd9760d0",
   "metadata": {},
   "source": [
    "#### What are the 10 pages with the longest wiki entries? (use the length of content attribute to figure this one out)?"
   ]
  },
  {
   "cell_type": "code",
   "execution_count": null,
   "id": "a206dda3",
   "metadata": {},
   "outputs": [],
   "source": [
    "node_word_counts = [(n, d['word_count']) for n, d in G.nodes(data=True)]\n",
    "top_10_longest = sorted(node_word_counts, key=lambda x: x[1], reverse=True)[:10]\n",
    "\n",
    "print(\"Top 10 pages with the longest wiki entries:\")\n",
    "for i, (node, count) in enumerate(top_10_longest):\n",
    "    print(f\"{i+1}. {node}, Word Count: {count}\")"
   ]
  },
  {
   "cell_type": "markdown",
   "id": "66ab99ca",
   "metadata": {},
   "source": [
    "## Assignment 3 Let's build a simple visualization of the network\n"
   ]
  },
  {
   "cell_type": "markdown",
   "id": "5a979381",
   "metadata": {},
   "source": [
    "#### For the sake of the visualisation, let's convert our network to undirected graph (tip: There is a NetworkX command to help you).\n",
    "\n"
   ]
  },
  {
   "cell_type": "code",
   "execution_count": null,
   "id": "1ab6e933",
   "metadata": {},
   "outputs": [],
   "source": [
    "G_undir = G.copy().to_undirected()"
   ]
  },
  {
   "cell_type": "markdown",
   "id": "34569b35",
   "metadata": {},
   "source": [
    "#### Use the NetworkX command nx.spring_layout or nx.draw_kamada_kawai to draw the resulting undirected network.\n",
    "\n",
    "* Set up your plot so that node-size depends on the node degree.\n",
    "\n",
    "* Make the node color depend on the length of content attribute. I recommend choosing a color scheme that is quite simple"
   ]
  },
  {
   "cell_type": "code",
   "execution_count": null,
   "id": "888a9dff",
   "metadata": {},
   "outputs": [],
   "source": [
    "spring_pos = nx.spring_layout(G_undir, k=20, scale=20, seed=42)\n",
    "kamada_pos = nx.kamada_kawai_layout(G_undir, pos=spring_pos, weight=None, scale=20)\n",
    "\n",
    "deg = dict(G_undir.degree())\n",
    "deg_vals = np.array([deg[n] for n in G_undir.nodes()])\n",
    "\n",
    "# Get word counts directly from node attributes\n",
    "words = [p['word_count'] for n, p in G_undir.nodes(data=True)]\n",
    "sizes = (120 + 12 * deg_vals)*0.2 \n",
    "cmap = plt.cm.inferno\n",
    "\n",
    "plt.figure(figsize=(12, 9))\n",
    "nx.draw_networkx_edges(G_undir, kamada_pos, alpha=0.15, width=0.4)\n",
    "nodes = nx.draw_networkx_nodes(\n",
    "    G_undir, kamada_pos,\n",
    "    node_size=sizes,\n",
    "    node_color=words,\n",
    "    cmap=cmap,\n",
    "    linewidths=0.25,\n",
    "    edgecolors='black',\n",
    ")\n",
    "\n",
    "plt.title('Rock Performers Network')\n",
    "colorbar = plt.colorbar(nodes)\n",
    "colorbar.set_label('Words (page length)')\n",
    "plt.axis('off')\n",
    "plt.tight_layout()\n",
    "plt.show()"
   ]
  }
 ],
 "metadata": {
  "kernelspec": {
   "display_name": "socialgraphs",
   "language": "python",
   "name": "python3"
  },
  "language_info": {
   "codemirror_mode": {
    "name": "ipython",
    "version": 3
   },
   "file_extension": ".py",
   "mimetype": "text/x-python",
   "name": "python",
   "nbconvert_exporter": "python",
   "pygments_lexer": "ipython3",
   "version": "3.11.0"
  }
 },
 "nbformat": 4,
 "nbformat_minor": 5
}
